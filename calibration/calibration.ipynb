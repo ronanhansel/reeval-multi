{
 "cells": [
  {
   "cell_type": "code",
   "execution_count": 44,
   "id": "e7e8cafb",
   "metadata": {},
   "outputs": [],
   "source": [
    "import pandas as pd\n",
    "import numpy as np\n",
    "import torch\n",
    "import pickle\n",
    "import os\n",
    "import json\n",
    "import gc\n",
    "from torch.distributions import Bernoulli\n",
    "from torch.optim import LBFGS\n",
    "from tqdm import tqdm\n",
    "from scipy.stats import pearsonr\n",
    "from collections import defaultdict\n",
    "from concurrent.futures import ProcessPoolExecutor\n",
    "from multiprocessing import Manager\n",
    "import multiprocessing as mp\n",
    "\n",
    "import matplotlib.pyplot as plt\n",
    "import matplotlib.colors as mcolors\n",
    "from tueplots import bundles\n",
    "bundles.icml2024()\n",
    "\n",
    "from torchmetrics import AUROC\n",
    "auroc = AUROC(task=\"binary\")\n",
    "\n",
    "import warnings\n",
    "warnings.filterwarnings(\"ignore\")\n",
    "\n",
    "torch.manual_seed(0)\n",
    "\n",
    "device = \"cuda:0\" if torch.cuda.is_available() else \"mps\" if torch.backends.mps.is_available() else \"cpu\"\n",
    "\n",
    "def visualize_response_matrix(results, value, filename):\n",
    "    # Extract the groups labels in the order of the columns\n",
    "    group_values = results.columns.get_level_values(\"scenario\")\n",
    "\n",
    "    # Identify the boundaries where the group changes\n",
    "    boundaries = []\n",
    "    for i in range(1, len(group_values)):\n",
    "        if group_values[i] != group_values[i - 1]:\n",
    "            boundaries.append(i - 0.5)  # using 0.5 to place the line between columns\n",
    "\n",
    "    # Visualize the results with a matrix: red is 0, white is -1 and blue is 1\n",
    "    cmap = mcolors.ListedColormap([\"white\", \"red\", \"blue\"])\n",
    "    bounds = [-1.5, -0.5, 0.5, 1.5]\n",
    "    norm = mcolors.BoundaryNorm(bounds, cmap.N)\n",
    "\n",
    "    # Calculate midpoints for each group label\n",
    "    groups_list = list(group_values)\n",
    "    group_names = []\n",
    "    group_midpoints = []\n",
    "    current_group = groups_list[0]\n",
    "    start_index = 0\n",
    "    for i, grp in enumerate(groups_list):\n",
    "        if grp != current_group:\n",
    "            midpoint = (start_index + i - 1) / 2.0\n",
    "            group_names.append(current_group)\n",
    "            group_midpoints.append(midpoint)\n",
    "            current_group = grp\n",
    "            start_index = i\n",
    "    # Add the last group\n",
    "    midpoint = (start_index + len(groups_list) - 1) / 2.0\n",
    "    group_names.append(current_group)\n",
    "    group_midpoints.append(midpoint)\n",
    "\n",
    "    # Define the minimum spacing between labels (e.g., 100 units)\n",
    "    min_spacing = 100\n",
    "    last_label_pos = -float(\"inf\")\n",
    "    # Plot the matrix\n",
    "    with plt.rc_context(bundles.icml2024(usetex=True, family=\"serif\")):\n",
    "        fig, ax = plt.subplots(figsize=(20, 10))\n",
    "        cax = ax.matshow(value, aspect=\"auto\", cmap=cmap, norm=norm)\n",
    "\n",
    "        # Add vertical lines at each boundary\n",
    "        for b in boundaries:\n",
    "            ax.axvline(x=b, color=\"black\", linewidth=0.25, linestyle=\"--\", alpha=0.5)\n",
    "        \n",
    "        # Add group labels above the matrix, only if they're spaced enough apart\n",
    "        for name, pos in zip(group_names, group_midpoints):\n",
    "            if pos - last_label_pos >= min_spacing:\n",
    "                ax.text(pos, -5, name, ha='center', va='bottom', rotation=90, fontsize=3)\n",
    "                last_label_pos = pos\n",
    "\n",
    "        # Add model labels on the y-axis\n",
    "        ax.set_yticks(range(len(results.index)))\n",
    "        ax.set_yticklabels(results.index, fontsize=3)\n",
    "\n",
    "        # Add a colorbar\n",
    "        cbar = plt.colorbar(cax)\n",
    "        cbar.set_ticks([-1, 0, 1])\n",
    "        cbar.set_ticklabels([\"-1\", \"0\", \"1\"])\n",
    "        plt.savefig(filename, dpi=600, bbox_inches=\"tight\")\n",
    "        plt.close()\n",
    "\n",
    "def trainer(parameters, optim, closure, n_iter=100, verbose=True):\n",
    "    pbar = tqdm(range(n_iter)) if verbose else range(n_iter)\n",
    "    for iteration in pbar:\n",
    "        if iteration > 0:\n",
    "            previous_parameters = [p.clone() for p in parameters]\n",
    "            previous_loss = loss.clone()\n",
    "        \n",
    "        loss = optim.step(closure)\n",
    "        \n",
    "        if iteration > 0:\n",
    "            d_loss = (previous_loss - loss).item()\n",
    "            d_parameters = sum(\n",
    "                torch.norm(prev - curr, p=2).item()\n",
    "                for prev, curr in zip(previous_parameters, parameters)\n",
    "            )\n",
    "            grad_norm = sum(torch.norm(p.grad, p=2).item() for p in parameters if p.grad is not None)\n",
    "            if verbose:\n",
    "                pbar.set_postfix({\"grad_norm\": grad_norm, \"d_parameter\": d_parameters, \"d_loss\": d_loss})\n",
    "            \n",
    "            if d_loss < 1e-5 and d_parameters < 1e-5 and grad_norm < 1e-5:\n",
    "                break\n",
    "    return parameters\n",
    "\n",
    "def compute_auc(probs, data, train_idtor, test_idtor):\n",
    "    train_probs = probs[train_idtor.bool()]\n",
    "    test_probs = probs[test_idtor.bool()]\n",
    "    train_labels = data[train_idtor.bool()]\n",
    "    test_labels = data[test_idtor.bool()]\n",
    "    train_auc = auroc(train_probs, train_labels)\n",
    "    test_auc = auroc(test_probs, test_labels)\n",
    "    print(f\"train auc: {train_auc}\")\n",
    "    print(f\"test auc: {test_auc}\")\n",
    "    \n",
    "    return train_auc, test_auc\n",
    "\n",
    "def compute_cttcorr(probs, data, train_idtor, test_idtor):\n",
    "    train_probs  = probs.clone()\n",
    "    test_probs   = probs.clone()\n",
    "    train_labels = data.clone()\n",
    "    test_labels  = data.clone()\n",
    "\n",
    "    train_mask = ~train_idtor.bool()\n",
    "    train_probs[train_mask]  = float('nan')\n",
    "    train_labels[train_mask] = float('nan')\n",
    "\n",
    "    test_mask = ~test_idtor.bool()\n",
    "    test_probs[test_mask]   = float('nan')\n",
    "    test_labels[test_mask]  = float('nan')\n",
    "    \n",
    "    train_prob_ctt = torch.nanmean(train_probs, dim=1).detach().cpu().numpy()\n",
    "    train_label_ctt = torch.nanmean(train_labels, dim=1).detach().cpu().numpy()\n",
    "    train_mask = ~np.isnan(train_prob_ctt) & ~np.isnan(train_label_ctt)\n",
    "    train_cttcorr = pearsonr(train_prob_ctt[train_mask], train_label_ctt[train_mask]).statistic\n",
    "    \n",
    "    test_prob_ctt = torch.nanmean(test_probs, dim=1).detach().cpu().numpy()\n",
    "    test_label_ctt = torch.nanmean(test_labels, dim=1).detach().cpu().numpy()\n",
    "    test_mask = ~np.isnan(test_prob_ctt) & ~np.isnan(test_label_ctt)\n",
    "    test_cttcorr = pearsonr(test_prob_ctt[test_mask], test_label_ctt[test_mask]).statistic\n",
    "    \n",
    "    print(f\"train cttcorr: {train_cttcorr}\")\n",
    "    print(f\"test cttcorr: {test_cttcorr}\")\n",
    "\n",
    "    return train_cttcorr, test_cttcorr"
   ]
  },
  {
   "cell_type": "code",
   "execution_count": 45,
   "id": "ce8bcb6a",
   "metadata": {},
   "outputs": [],
   "source": [
    "with open(f\"../data/resmat_2000.pkl\", \"rb\") as f:\n",
    "    results = pickle.load(f)\n",
    "\n",
    "dtype = torch.float64 if device.startswith(\"cuda\") else torch.float32\n",
    "\n",
    "# data_withnan, missing=nan\n",
    "# data_withneg1, missing=-1\n",
    "# data_with0, missing=0\n",
    "data_withnan = torch.tensor(results.values, dtype=dtype, device=device)\n",
    "data_idtor = (~torch.isnan(data_withnan)).to(dtype)\n",
    "data_withneg1 = data_withnan.nan_to_num(nan=-1.0)\n",
    "data_with0 = data_withneg1 * data_idtor\n",
    "data_with0 = data_with0.nan_to_num(nan=0.0)\n",
    "n_test_takers, n_items = data_with0.shape\n",
    "scenarios = results.columns.get_level_values(\"scenario\").unique()"
   ]
  },
  {
   "cell_type": "code",
   "execution_count": 46,
   "id": "bf99b0a2",
   "metadata": {},
   "outputs": [],
   "source": [
    "master_test_df = pd.read_csv(\"../data/master_test_metadata_factor.csv\")\n",
    "final_test_data_matrix = pd.read_pickle(\"../data/master_test_data_matrix_factor.pkl\").values\n",
    "dtype = torch.float64 if device.startswith(\"cuda\") else torch.float32\n",
    "final_test_data_matrix = np.nan_to_num(final_test_data_matrix, nan=0)"
   ]
  },
  {
   "cell_type": "code",
   "execution_count": null,
   "id": "bf99b0a2",
   "metadata": {},
   "outputs": [
    {
     "name": "stdout",
     "output_type": "stream",
     "text": [
      "trial 0 valid condition: True\n"
     ]
    },
    {
     "name": "stderr",
     "output_type": "stream",
     "text": [
      "  0%|                                                                                                                                                                                                                                                                                                                                                                                                                                                                                                                                                                                                                                                                                                                                                                                                                                                                                                                                                                                                            | 0/1 [00:00<?, ?it/s]"
     ]
    },
    {
     "name": "stderr",
     "output_type": "stream",
     "text": [
      "  3%|███████████████████████████▌                                                                                                                                                                                                                                                                                                                                                                                                                                                                                                                                                                                                                                                                                                                                                                                                                                                                                                                          | 3/100 [00:05<03:06,  1.93s/it, grad_norm=1.18e-6, d_parameter=0, d_loss=0]\n",
      "100%|████████████████████████████████████████████████████████████████████████████████████████████████████████████████████████████████████████████████████████████████████████████████████████████████████████████████████████████████████████████████████████████████████████████████████████████████████████████████████████████████████████████████████████████████████████████████████████████████████████████████████████████████████████████████████████████████████████████████████████████████████████████████████████████████████████████████████████████████████████████████████████████████████████████████████████████████████████████████████████████████████████████████████████████████████████████████████████████████████████████████████████████████████████████████████████████████████████████████████████████████████████████████████████████████████████████████████████████████████████████████████████████████████████████████████████████████████████████████████████████████████| 1/1 [00:08<00:00,  8.33s/it]\n",
      "  9%|█████████████████████████████████████████████████████████████████████████████████▉                                                                                                                                                                                                                                                                                                                                                                                                                                                                                                                                                                                                                                                                                                                                                                                                                                                             | 9/100 [00:00<00:01, 47.30it/s, grad_norm=4.41e-7, d_parameter=0, d_loss=3.35e-10]\n"
     ]
    },
    {
     "name": "stdout",
     "output_type": "stream",
     "text": [
      "train auc: 0.8802717328071594\n",
      "test auc: 0.8685407042503357\n",
      "train cttcorr: 0.9999999693672162\n",
      "test cttcorr: 0.9958113617909076\n"
     ]
    }
   ],
   "source": [
    "# data_idtor = train_idtor + test_idtor\n",
    "# apply random train/test mask to the matrix, and ensure no one row or column is fully masked\n",
    "valid_condition = False\n",
    "trial = 0\n",
    "while not valid_condition:\n",
    "    train_idtor = torch.bernoulli(data_idtor * 0.8).int()\n",
    "    test_idtor = data_idtor - train_idtor\n",
    "    valid_condition = (train_idtor.sum(axis=1) != 0).all() and (train_idtor.sum(axis=0) != 0).all()\n",
    "    print(f\"trial {trial} valid condition: {valid_condition}\")\n",
    "    trial += 1\n",
    "\n",
    "# fit z\n",
    "B = 50000\n",
    "optimized_zs = []\n",
    "thetas_nuisance = torch.randn(150, n_test_takers, device=device)\n",
    "for i in tqdm(range(0, n_items, B)):\n",
    "    data_batch = data_with0[:, i:i+B]\n",
    "    train_idtor_batch = train_idtor[:, i:i+B]\n",
    "    current_B = data_batch.shape[1]\n",
    "    z_i = torch.randn(current_B, requires_grad=True, device=device)\n",
    "    optim_z_i = LBFGS([z_i], lr=0.1, max_iter=20, history_size=10, line_search_fn=\"strong_wolfe\")\n",
    "    def closure_z_i():\n",
    "        optim_z_i.zero_grad()\n",
    "        probs = torch.sigmoid(thetas_nuisance[:, :, None] + z_i[None, None, :])\n",
    "        loss = -(Bernoulli(probs=probs).log_prob(data_batch)*train_idtor_batch).mean()\n",
    "        loss.backward()\n",
    "        return loss\n",
    "    z_i_optimized = trainer([z_i], optim_z_i, closure_z_i)[0].detach()\n",
    "    optimized_zs.append(z_i_optimized)\n",
    "zs = torch.cat(optimized_zs)\n",
    "\n",
    "# fit theta\n",
    "thetas = torch.randn(n_test_takers, requires_grad=True, device=device)\n",
    "optim_theta = LBFGS([thetas], lr=0.1, max_iter=20, history_size=10, line_search_fn=\"strong_wolfe\")\n",
    "def closure_theta():\n",
    "    optim_theta.zero_grad()\n",
    "    probs = torch.sigmoid(thetas[:, None] + zs[None, :])\n",
    "    loss = -(Bernoulli(probs=probs).log_prob(data_with0)*train_idtor).mean()\n",
    "    loss.backward()\n",
    "    return loss\n",
    "thetas = trainer([thetas], optim_theta, closure_theta)[0]\n",
    "\n",
    "# calculate metrics\n",
    "probs = torch.sigmoid(thetas[:, None] + zs[None, :])\n",
    "\n",
    "train_auc, test_auc = compute_auc(probs, data_with0, train_idtor, test_idtor)\n",
    "\n",
    "train_cttcorr, test_cttcorr = compute_cttcorr(probs, data_with0, train_idtor, test_idtor)\n",
    "\n",
    "del optim_theta, thetas, z_i, thetas_nuisance, optim_z_i\n",
    "gc.collect()\n",
    "torch.cuda.empty_cache()"
   ]
  },
  {
   "cell_type": "code",
   "execution_count": 47,
   "id": "5054b7e8",
   "metadata": {},
   "outputs": [],
   "source": [
    "import torch\n",
    "import torch.nn as nn\n",
    "\n",
    "class NeuralIRT_1PL(nn.Module):\n",
    "    def __init__(self, n_test_takers, n_items, n_dimensions, q_matrix):\n",
    "        super().__init__()\n",
    "        \n",
    "        # Person embedding layer -> learns the multidimensional thetas\n",
    "        self.person_embedding = nn.Embedding(n_test_takers, n_dimensions)\n",
    "        \n",
    "        # <<< REMOVED: The item_a_embedding layer is gone for the 1PL model >>>\n",
    "        \n",
    "        # Item difficulty embedding layer -> learns the 'b' parameters\n",
    "        self.item_b_embedding = nn.Embedding(n_items, 1)\n",
    "        \n",
    "        # <<< NEW: Store the fixed Q-matrix as a non-trainable buffer >>>\n",
    "        # This is the correct way to include fixed data in a PyTorch model.\n",
    "        self.register_buffer('q_matrix', q_matrix)\n",
    "\n",
    "    def forward(self, person_ids, item_ids):\n",
    "        # Look up the vectors for the given persons and items\n",
    "        theta = self.person_embedding(person_ids)\n",
    "        b = self.item_b_embedding(item_ids).squeeze()\n",
    "        \n",
    "        # <<< NEW: Look up the Q-matrix vector for the given items >>>\n",
    "        q_vector = self.q_matrix[item_ids]\n",
    "        \n",
    "        # --- The MIRT 1PL Formula ---\n",
    "        # 1. Apply the Q-matrix to select the relevant theta dimensions\n",
    "        effective_theta = theta * q_vector\n",
    "        \n",
    "        # 2. Sum the relevant abilities (this is the dot product with a=1)\n",
    "        #    and subtract the item difficulty 'b'\n",
    "        logits = torch.sum(effective_theta, dim=1) - b\n",
    "        \n",
    "        # Apply sigmoid to get the probability\n",
    "        prob = torch.sigmoid(logits)\n",
    "        \n",
    "        return prob"
   ]
  },
  {
   "cell_type": "code",
   "execution_count": 48,
   "id": "43780f4e",
   "metadata": {},
   "outputs": [
    {
     "name": "stdout",
     "output_type": "stream",
     "text": [
      "Shape of Q-Matrix: torch.Size([9485, 2])\n"
     ]
    }
   ],
   "source": [
    "# --- Build the Q-Matrix for your MASTER TEST ---\n",
    "# Assume master_test_df is your (120, ...) DataFrame with the 'component' column\n",
    "n_dimensions = 2 # Your MASTER TEST has 6 components\n",
    "\n",
    "component_names = master_test_df['component'].unique()\n",
    "Q_matrix_df = pd.get_dummies(master_test_df['component'])\n",
    "Q_matrix_df = Q_matrix_df[component_names]\n",
    "Q_matrix_tensor = torch.tensor(Q_matrix_df.values, device=device, dtype=torch.float32)\n",
    "\n",
    "print(f\"Shape of Q-Matrix: {Q_matrix_tensor.shape}\") # Should be (120, 6)"
   ]
  },
  {
   "cell_type": "code",
   "execution_count": 49,
   "id": "861781b0",
   "metadata": {},
   "outputs": [
    {
     "name": "stdout",
     "output_type": "stream",
     "text": [
      "--- Preparing Data for Neural Network Training ---\n",
      "Converted matrix to long format with 1498630 interactions.\n",
      "Example rows:\n",
      " tensor([[0, 0, 0],\n",
      "        [0, 1, 0],\n",
      "        [0, 2, 0],\n",
      "        [0, 3, 0],\n",
      "        [0, 4, 0]], device='cuda:0')\n"
     ]
    }
   ],
   "source": [
    "print(\"--- Preparing Data for Neural Network Training ---\")\n",
    "\n",
    "# 1. Convert your final test data matrix to a PyTorch tensor\n",
    "data_matrix = torch.tensor(final_test_data_matrix, dtype=torch.float32, device=device)\n",
    "n_test_takers, n_items = data_matrix.shape # Should be 183, 120\n",
    "\n",
    "# 2. Convert the (183, 120) \"wide\" matrix to a \"long\" format\n",
    "# Get the row (person) and column (item) indices for every single interaction\n",
    "person_indices, item_indices = torch.meshgrid(\n",
    "    torch.arange(n_test_takers, device=device),\n",
    "    torch.arange(n_items, device=device),\n",
    "    indexing='ij'\n",
    ")\n",
    "\n",
    "# Flatten the indices and the corresponding answers\n",
    "person_indices_flat = person_indices.flatten()\n",
    "item_indices_flat = item_indices.flatten()\n",
    "correct_answers_flat = data_matrix.flatten()\n",
    "\n",
    "# 3. Stack them into the final (N, 3) training_data tensor\n",
    "training_data = torch.stack([\n",
    "    person_indices_flat, \n",
    "    item_indices_flat, \n",
    "    correct_answers_flat\n",
    "], dim=1)\n",
    "\n",
    "# Convert index columns to long type, which is required for nn.Embedding\n",
    "training_data = training_data.to(torch.long)\n",
    "training_data[:, 2] = training_data[:, 2].float() # Keep the 'is_correct' column as float\n",
    "\n",
    "print(f\"Converted matrix to long format with {len(training_data)} interactions.\")\n",
    "print(\"Example rows:\\n\", training_data[:5])"
   ]
  },
  {
   "cell_type": "code",
   "execution_count": 50,
   "id": "8873937c",
   "metadata": {},
   "outputs": [
    {
     "name": "stdout",
     "output_type": "stream",
     "text": [
      "--- Preparing and splitting data using pre-defined masks ---\n",
      "Generated a reproducible 80/20 train/test mask.\n",
      "Saved train_idtor.pt and test_idtor.pt for later evaluation.\n",
      "Data split into 1199613 training samples and 299017 testing samples based on the provided masks.\n",
      "--- Starting Training ---\n"
     ]
    },
    {
     "name": "stderr",
     "output_type": "stream",
     "text": [
      "Epoch 1 [Train]: 100%|█████████████████████████████████████████████████████████████████████████████████████████████████████████████████████████████████████████████████████████████████████████████████████████████████████████████████████████████████████████████████████████████████████████████████████████████████████████████████████████████████████████████████████████████████████████████████████████████████████████████████████████████████████████████████████████████████████████████████████████████████████████████████████████████████████████████████████████████████████████████████████████████████████████████████████████████████████████████████████████████████████████████████████████████████████████████████████████████████████████████████████████████████████████████████████████████████████████████████████████████████████████████████████████████████████████████████████████████████████████████████████████████████████████████████████████████████████████████| 1172/1172 [00:13<00:00, 86.30it/s]\n"
     ]
    },
    {
     "name": "stdout",
     "output_type": "stream",
     "text": [
      "Epoch 1 | Train Loss: 0.3860 | Test Loss: 0.2668 | Test AUC: 0.9295\n"
     ]
    },
    {
     "name": "stderr",
     "output_type": "stream",
     "text": [
      "Epoch 2 [Train]: 100%|█████████████████████████████████████████████████████████████████████████████████████████████████████████████████████████████████████████████████████████████████████████████████████████████████████████████████████████████████████████████████████████████████████████████████████████████████████████████████████████████████████████████████████████████████████████████████████████████████████████████████████████████████████████████████████████████████████████████████████████████████████████████████████████████████████████████████████████████████████████████████████████████████████████████████████████████████████████████████████████████████████████████████████████████████████████████████████████████████████████████████████████████████████████████████████████████████████████████████████████████████████████████████████████████████████████████████████████████████████████████████████████████████████████████████████████████████████████████| 1172/1172 [00:13<00:00, 85.28it/s]\n"
     ]
    },
    {
     "name": "stdout",
     "output_type": "stream",
     "text": [
      "Epoch 2 | Train Loss: 0.2493 | Test Loss: 0.2393 | Test AUC: 0.9411\n"
     ]
    },
    {
     "name": "stderr",
     "output_type": "stream",
     "text": [
      "Epoch 3 [Train]: 100%|█████████████████████████████████████████████████████████████████████████████████████████████████████████████████████████████████████████████████████████████████████████████████████████████████████████████████████████████████████████████████████████████████████████████████████████████████████████████████████████████████████████████████████████████████████████████████████████████████████████████████████████████████████████████████████████████████████████████████████████████████████████████████████████████████████████████████████████████████████████████████████████████████████████████████████████████████████████████████████████████████████████████████████████████████████████████████████████████████████████████████████████████████████████████████████████████████████████████████████████████████████████████████████████████████████████████████████████████████████████████████████████████████████████████████████████████████████████████| 1172/1172 [00:13<00:00, 85.41it/s]\n"
     ]
    },
    {
     "name": "stdout",
     "output_type": "stream",
     "text": [
      "Epoch 3 | Train Loss: 0.2346 | Test Loss: 0.2338 | Test AUC: 0.9422\n"
     ]
    },
    {
     "name": "stderr",
     "output_type": "stream",
     "text": [
      "Epoch 4 [Train]: 100%|█████████████████████████████████████████████████████████████████████████████████████████████████████████████████████████████████████████████████████████████████████████████████████████████████████████████████████████████████████████████████████████████████████████████████████████████████████████████████████████████████████████████████████████████████████████████████████████████████████████████████████████████████████████████████████████████████████████████████████████████████████████████████████████████████████████████████████████████████████████████████████████████████████████████████████████████████████████████████████████████████████████████████████████████████████████████████████████████████████████████████████████████████████████████████████████████████████████████████████████████████████████████████████████████████████████████████████████████████████████████████████████████████████████████████████████████████████████████| 1172/1172 [00:13<00:00, 86.68it/s]\n"
     ]
    },
    {
     "name": "stdout",
     "output_type": "stream",
     "text": [
      "Epoch 4 | Train Loss: 0.2309 | Test Loss: 0.2325 | Test AUC: 0.9425\n"
     ]
    },
    {
     "name": "stderr",
     "output_type": "stream",
     "text": [
      "Epoch 5 [Train]: 100%|█████████████████████████████████████████████████████████████████████████████████████████████████████████████████████████████████████████████████████████████████████████████████████████████████████████████████████████████████████████████████████████████████████████████████████████████████████████████████████████████████████████████████████████████████████████████████████████████████████████████████████████████████████████████████████████████████████████████████████████████████████████████████████████████████████████████████████████████████████████████████████████████████████████████████████████████████████████████████████████████████████████████████████████████████████████████████████████████████████████████████████████████████████████████████████████████████████████████████████████████████████████████████████████████████████████████████████████████████████████████████████████████████████████████████████████████████████████████| 1172/1172 [00:13<00:00, 85.94it/s]\n"
     ]
    },
    {
     "name": "stdout",
     "output_type": "stream",
     "text": [
      "Epoch 5 | Train Loss: 0.2297 | Test Loss: 0.2323 | Test AUC: 0.9426\n",
      "\n",
      "Training complete.\n"
     ]
    }
   ],
   "source": [
    "import torch\n",
    "import torch.nn as nn\n",
    "from torch.utils.data import DataLoader, TensorDataset, random_split\n",
    "from tqdm import tqdm\n",
    "\n",
    "# ====================================================================================\n",
    "# 1. PREPARE AND SPLIT THE DATA (Using Pre-defined Masks)\n",
    "# ====================================================================================\n",
    "print(\"--- Preparing and splitting data using pre-defined masks ---\")\n",
    "\n",
    "# Convert your data matrix to a PyTorch tensor\n",
    "data_matrix = torch.tensor(final_test_data_matrix, dtype=torch.float32, device=device)\n",
    "n_test_takers, n_items = data_matrix.shape\n",
    "\n",
    "# --- Step A: Generate the exact train/test masks ---\n",
    "# This block generates the (183, 120) masks for training and testing.\n",
    "# I've added torch.manual_seed(42) to ensure this \"random\" split is the same every time you run the script.\n",
    "data_idtor = torch.ones_like(data_matrix)\n",
    "valid_condition = False\n",
    "while not valid_condition:\n",
    "    torch.manual_seed(42) \n",
    "    train_idtor = torch.bernoulli(data_idtor * 0.8).int()\n",
    "    test_idtor = data_idtor - train_idtor\n",
    "    valid_condition = (train_idtor.sum(axis=1) != 0).all() and \\\n",
    "                      (train_idtor.sum(axis=0) != 0).all() and \\\n",
    "                      (test_idtor.sum(axis=1) != 0).all() and \\\n",
    "                      (test_idtor.sum(axis=0) != 0).all()\n",
    "print(\"Generated a reproducible 80/20 train/test mask.\")\n",
    "\n",
    "# <<< ADD THESE LINES TO SAVE THE MASKS >>>\n",
    "torch.save(train_idtor, 'train_idtor.pt')\n",
    "torch.save(test_idtor, 'test_idtor.pt')\n",
    "print(\"Saved train_idtor.pt and test_idtor.pt for later evaluation.\")\n",
    "\n",
    "# --- Step B: Convert masks to \"long format\" datasets ---\n",
    "def create_long_dataset_from_mask(data_matrix, idtor_mask):\n",
    "    \"\"\"Takes a wide data matrix and a wide mask and returns a long-format dataset.\"\"\"\n",
    "    # Find the (person, item) coordinates where the mask is 1\n",
    "    person_indices, item_indices = idtor_mask.nonzero(as_tuple=True)\n",
    "    # Get the corresponding correct answers\n",
    "    labels = data_matrix[person_indices, item_indices]\n",
    "    # Create the TensorDataset\n",
    "    dataset = TensorDataset(person_indices, item_indices, labels)\n",
    "    return dataset\n",
    "\n",
    "train_dataset = create_long_dataset_from_mask(data_matrix, train_idtor)\n",
    "test_dataset = create_long_dataset_from_mask(data_matrix, test_idtor)\n",
    "\n",
    "# --- Step C: Create DataLoaders ---\n",
    "train_loader = DataLoader(train_dataset, batch_size=1024, shuffle=True)\n",
    "test_loader = DataLoader(test_dataset, batch_size=1024, shuffle=False)\n",
    "\n",
    "print(f\"Data split into {len(train_dataset)} training samples and {len(test_dataset)} testing samples based on the provided masks.\")\n",
    "\n",
    "\n",
    "# ====================================================================================\n",
    "# 1. DEFINE THE EVALUATION FUNCTION (place this before the training loop)\n",
    "# ====================================================================================\n",
    "\n",
    "def evaluate_model(model, data_loader, loss_fn):\n",
    "    model.eval() # Set model to evaluation mode\n",
    "    all_outputs = []\n",
    "    all_labels = []\n",
    "    total_loss = 0.0\n",
    "    with torch.no_grad():\n",
    "        for person_ids, item_ids, labels in data_loader:\n",
    "            person_ids, item_ids, labels = person_ids.to(device), item_ids.to(device), labels.to(device)\n",
    "            outputs = model(person_ids, item_ids)\n",
    "            loss = loss_fn(outputs, labels)\n",
    "            total_loss += loss.item() * len(labels)\n",
    "            all_outputs.append(outputs)\n",
    "            all_labels.append(labels)\n",
    "    \n",
    "    avg_loss = total_loss / len(data_loader.dataset)\n",
    "    # Use torchmetrics.AUROC for AUC calculation\n",
    "    auc = auroc(torch.cat(all_outputs), torch.cat(all_labels).to(torch.long))\n",
    "    return avg_loss, auc.item()\n",
    "\n",
    "\n",
    "# ====================================================================================\n",
    "# 2. TRAIN THE MODEL (WITH EPOCH-WISE EVALUATION)\n",
    "# ====================================================================================\n",
    "\n",
    "# Instantiate model, optimizer, etc.\n",
    "model = NeuralIRT_1PL(n_test_takers, n_items, n_dimensions, q_matrix=Q_matrix_tensor).to(device)\n",
    "optimizer = torch.optim.Adam(model.parameters(), lr=0.01)\n",
    "loss_fn = nn.BCELoss()\n",
    "\n",
    "# <<< Lists to store metrics for plotting later >>>\n",
    "train_losses = []\n",
    "test_losses = []\n",
    "test_aucs = []\n",
    "\n",
    "n_epochs = 5\n",
    "print(\"--- Starting Training ---\")\n",
    "for epoch in range(n_epochs):\n",
    "    # --- Training Phase ---\n",
    "    model.train() # Set model to training mode\n",
    "    epoch_train_loss = 0.0\n",
    "    for person_ids, item_ids, labels in tqdm(train_loader, desc=f\"Epoch {epoch+1} [Train]\"):\n",
    "        person_ids, item_ids, labels = person_ids.to(device), item_ids.to(device), labels.to(device)\n",
    "        \n",
    "        # Standard training steps\n",
    "        optimizer.zero_grad()\n",
    "        outputs = model(person_ids, item_ids)\n",
    "        loss = loss_fn(outputs, labels)\n",
    "        loss.backward()\n",
    "        optimizer.step()\n",
    "        \n",
    "        epoch_train_loss += loss.item() * len(labels)\n",
    "    \n",
    "    # Calculate average training loss for the epoch\n",
    "    avg_train_loss = epoch_train_loss / len(train_loader.dataset)\n",
    "    train_losses.append(avg_train_loss)\n",
    "    \n",
    "    # --- Evaluation Phase ---\n",
    "    # <<< Calculate test metrics at the end of each epoch >>>\n",
    "    avg_test_loss, test_auc = evaluate_model(model, test_loader, loss_fn)\n",
    "    test_losses.append(avg_test_loss)\n",
    "    test_aucs.append(test_auc)\n",
    "    \n",
    "    print(f\"Epoch {epoch+1} | Train Loss: {avg_train_loss:.4f} | Test Loss: {avg_test_loss:.4f} | Test AUC: {test_auc:.4f}\")\n",
    "\n",
    "print(\"\\nTraining complete.\")"
   ]
  },
  {
   "cell_type": "code",
   "execution_count": 51,
   "id": "a5fd9f61",
   "metadata": {},
   "outputs": [
    {
     "name": "stdout",
     "output_type": "stream",
     "text": [
      "\n",
      "--- Model Saved ---\n",
      "Model state dictionary saved successfully to ../result/neural_irt_1pl_model.pth\n"
     ]
    }
   ],
   "source": [
    "# Assume 'model' is your trained NeuralIRT_1PL instance\n",
    "# 1. Define a path to save the model\n",
    "PATH = \"../result/neural_irt_1pl_model.pth\"\n",
    "\n",
    "# 2. Save the model's state dictionary\n",
    "torch.save(model.state_dict(), PATH)\n",
    "\n",
    "print(f\"\\n--- Model Saved ---\")\n",
    "print(f\"Model state dictionary saved successfully to {PATH}\")"
   ]
  },
  {
   "cell_type": "code",
   "execution_count": 52,
   "id": "1c1b2362",
   "metadata": {},
   "outputs": [
    {
     "name": "stdout",
     "output_type": "stream",
     "text": [
      "\n",
      "Shape of final 1PL thetas: (158, 2)\n"
     ]
    }
   ],
   "source": [
    "\n",
    "# --- Get your final multidimensional thetas ---\n",
    "model.eval()\n",
    "final_thetas_1pl = model.person_embedding.weight.detach().cpu().numpy()\n",
    "print(f\"\\nShape of final 1PL thetas: {final_thetas_1pl.shape}\") # Should be (183, 6)\n",
    "\n",
    "final_thetas_1pl.tofile(\"../result/final_thetas_1pl.t\", sep=\"\\n\", format=\"%f\")"
   ]
  },
  {
   "cell_type": "markdown",
   "id": "559d270e",
   "metadata": {},
   "source": [
    "Eval"
   ]
  },
  {
   "cell_type": "code",
   "execution_count": 53,
   "id": "609f6371",
   "metadata": {},
   "outputs": [],
   "source": [
    "import torch\n",
    "import numpy as np\n",
    "\n",
    "# Load the final thetas\n",
    "recheck_final_thetas_1pl = torch.tensor(\n",
    "\tnp.loadtxt(\"../result/final_thetas_1pl.t\").reshape(n_test_takers, n_dimensions),\n",
    "\tdtype=dtype, device=device\n",
    ")"
   ]
  },
  {
   "cell_type": "code",
   "execution_count": 54,
   "id": "46882116",
   "metadata": {},
   "outputs": [
    {
     "data": {
      "text/plain": [
       "<All keys matched successfully>"
      ]
     },
     "execution_count": 54,
     "metadata": {},
     "output_type": "execute_result"
    }
   ],
   "source": [
    "PATH = \"../result/neural_irt_1pl_model.pth\"\n",
    "\n",
    "model = NeuralIRT_1PL(n_test_takers, n_items, n_dimensions, q_matrix=Q_matrix_tensor).to(device)\n",
    "model.load_state_dict(torch.load(PATH, map_location=device))"
   ]
  },
  {
   "cell_type": "code",
   "execution_count": 55,
   "id": "33291602",
   "metadata": {},
   "outputs": [
    {
     "name": "stdout",
     "output_type": "stream",
     "text": [
      "\n",
      "--- Generating full probability matrix from the trained model ---\n"
     ]
    },
    {
     "name": "stderr",
     "output_type": "stream",
     "text": [
      "Predicting probabilities: 100%|█████████████████████████████████████████████████████████████████████████████████████████████████████████████████████████████████████████████████████████████████████████████████████████████████████████████████████████████████████████████████████████████████████████████████████████████████████████████████████████████████████████████████████████████████████████████████████████████████████████████████████████████████████████████████████████████████████████████████████████████████████████████████████████████████████████████████████████████████████████████████████████████████████████████████████████████████████████████████████████████████████████████████████████████████████████████████████████████████████████████████████████████████████████████████████████████████████████████████████████████████████████████████████████████████████████████████████████████████████████████████████████████████████████████████████████████████████| 732/732 [00:06<00:00, 120.96it/s]\n"
     ]
    }
   ],
   "source": [
    "from torch.utils.data import DataLoader, TensorDataset, random_split\n",
    "\n",
    "# --- Step 1: Generate the Full Probability Matrix ---\n",
    "print(\"\\n--- Generating full probability matrix from the trained model ---\")\n",
    "model.eval()\n",
    "\n",
    "# Create all possible (person_id, item_id) pairs for the 183x120 matrix\n",
    "all_person_ids, all_item_ids = torch.meshgrid(\n",
    "    torch.arange(n_test_takers, device=device),\n",
    "    torch.arange(n_items, device=device),\n",
    "    indexing='ij'\n",
    ")\n",
    "all_pairs = torch.stack([all_person_ids.flatten(), all_item_ids.flatten()], dim=1)\n",
    "\n",
    "# Use a DataLoader to process in batches (prevents memory errors)\n",
    "pred_dataset = TensorDataset(all_pairs)\n",
    "pred_loader = DataLoader(pred_dataset, batch_size=2048)\n",
    "\n",
    "all_probs = []\n",
    "with torch.no_grad():\n",
    "    for pairs_batch in tqdm(pred_loader, desc=\"Predicting probabilities\"):\n",
    "        person_ids = pairs_batch[0][:, 0].to(device)\n",
    "        item_ids = pairs_batch[0][:, 1].to(device)\n",
    "        \n",
    "        # Get model predictions for the batch\n",
    "        outputs = model(person_ids, item_ids)\n",
    "        all_probs.append(outputs)\n",
    "\n",
    "# Concatenate all batch results and reshape into the (183, 120) matrix\n",
    "probs = torch.cat(all_probs).reshape(n_test_takers, n_items)"
   ]
  },
  {
   "cell_type": "code",
   "execution_count": 56,
   "id": "20710244",
   "metadata": {},
   "outputs": [
    {
     "name": "stdout",
     "output_type": "stream",
     "text": [
      "\n",
      "--- Calculating final performance metrics ---\n",
      "Loading the train/test masks used during training...\n",
      "Loaded train_idtor with shape: torch.Size([158, 9485])\n",
      "Loaded test_idtor with shape: torch.Size([158, 9485])\n",
      "\n",
      "--- AUC SCORES ---\n",
      "train auc: 0.9461790323257446\n",
      "test auc: 0.9426131248474121\n",
      "\n",
      "--- CTT-Corr SCORES ---\n",
      "train cttcorr: 0.9981257915496826\n",
      "test cttcorr: 0.9951338768005371\n"
     ]
    },
    {
     "data": {
      "text/plain": [
       "(np.float32(0.9981258), np.float32(0.9951339))"
      ]
     },
     "execution_count": 56,
     "metadata": {},
     "output_type": "execute_result"
    }
   ],
   "source": [
    "\n",
    "# --- Step 2: Calculate Final Metrics ---\n",
    "print(\"\\n--- Calculating final performance metrics ---\")\n",
    "\n",
    "# Convert your ground-truth response matrix to a torch tensor\n",
    "# <<< Make sure this is the correct data matrix that the masks correspond to >>>\n",
    "data_with0 = torch.tensor(final_test_data_matrix, dtype=torch.float32, device=device)\n",
    "\n",
    "# <<< FIX: Load the EXACT masks used during training >>>\n",
    "print(\"Loading the train/test masks used during training...\")\n",
    "train_idtor = torch.load('./train_idtor.pt', map_location=torch.device('cpu')).to(device)\n",
    "test_idtor = torch.load('./test_idtor.pt', map_location=torch.device('cpu')).to(device)\n",
    "\n",
    "print(f\"Loaded train_idtor with shape: {train_idtor.shape}\")\n",
    "print(f\"Loaded test_idtor with shape: {test_idtor.shape}\")\n",
    "\n",
    "# Call your existing functions with the correct, loaded masks\n",
    "print(\"\\n--- AUC SCORES ---\")\n",
    "compute_auc(probs, data_with0, train_idtor, test_idtor)\n",
    "\n",
    "print(\"\\n--- CTT-Corr SCORES ---\")\n",
    "compute_cttcorr(probs, data_with0, train_idtor, test_idtor)"
   ]
  },
  {
   "cell_type": "code",
   "execution_count": 57,
   "id": "dbf7b2ea",
   "metadata": {},
   "outputs": [
    {
     "name": "stdout",
     "output_type": "stream",
     "text": [
      "--- Extracted Parameters ---\n",
      "Shape of final thetas: (158, 2)\n",
      "Theta Score Preview:\n",
      "   Factor 0_Skill  Factor 1_Skill\n",
      "0       -6.586123       -6.991978\n",
      "1       -1.845662       -9.030317\n",
      "2       -7.032672       -2.070291\n",
      "3       -0.566256       -8.652701\n",
      "4       -0.379633       -6.922719\n",
      "\n",
      "Item Parameter Preview:\n",
      "   item_id       component  difficulty\n",
      "0    13752  Factor 0_Skill    3.597710\n",
      "1    15020  Factor 0_Skill    3.140551\n",
      "2     2234  Factor 0_Skill    1.144180\n",
      "3     2235  Factor 0_Skill    3.261950\n",
      "4     2236  Factor 0_Skill    1.821009\n"
     ]
    }
   ],
   "source": [
    "import pandas as pd\n",
    "import numpy as np\n",
    "\n",
    "# Make sure 'model' is your trained NeuralIRT_1PL model\n",
    "model.eval() # Set the model to evaluation mode\n",
    "\n",
    "# 1. Extract the multidimensional thetas (person abilities)\n",
    "final_thetas = model.person_embedding.weight.detach().cpu().numpy()\n",
    "# Create a DataFrame for easy analysis\n",
    "component_names = master_test_df['component'].unique()\n",
    "thetas_df = pd.DataFrame(final_thetas, columns=component_names)\n",
    "\n",
    "# 2. Extract the item difficulties\n",
    "final_difficulties = model.item_b_embedding.weight.detach().cpu().numpy().flatten()\n",
    "# Create a DataFrame for the item parameters\n",
    "item_params_df = pd.DataFrame({\n",
    "    'item_id': master_test_df['item_id'],\n",
    "    'component': master_test_df['component'],\n",
    "    'difficulty': final_difficulties\n",
    "})\n",
    "\n",
    "print(\"--- Extracted Parameters ---\")\n",
    "print(\"Shape of final thetas:\", final_thetas.shape)\n",
    "print(\"Theta Score Preview:\")\n",
    "print(thetas_df.head())\n",
    "print(\"\\nItem Parameter Preview:\")\n",
    "print(item_params_df.head())"
   ]
  },
  {
   "cell_type": "code",
   "execution_count": 58,
   "id": "94ccdc4f",
   "metadata": {},
   "outputs": [
    {
     "name": "stdout",
     "output_type": "stream",
     "text": [
      "\n",
      "--- Internal Structure (Theta Correlation Matrix) ---\n"
     ]
    },
    {
     "data": {
      "image/png": "[encoded data removed]",
      "text/plain": [
       "<Figure size 2000x800 with 2 Axes>"
      ]
     },
     "metadata": {},
     "output_type": "display_data"
    }
   ],
   "source": [
    "import seaborn as sns\n",
    "import matplotlib.pyplot as plt\n",
    "print(\"\\n--- Internal Structure (Theta Correlation Matrix) ---\")\n",
    "theta_correlation_matrix = thetas_df.corr()\n",
    "# Calculate and isolate the validity matrix\n",
    "validity_matrix = theta_correlation_matrix.corr().loc[thetas_df.columns, theta_correlation_matrix.columns]\n",
    "\n",
    "# Plot the heatmap\n",
    "plt.figure(figsize=(20, 8))\n",
    "sns.heatmap(validity_matrix, annot=True, cmap='coolwarm', fmt='.2f', vmin=-1, vmax=1)\n",
    "plt.savefig(\"../result/theta_correlation.png\")\n",
    "plt.show()"
   ]
  },
  {
   "cell_type": "code",
   "execution_count": 59,
   "id": "be0147a5",
   "metadata": {},
   "outputs": [
    {
     "data": {
      "image/png": "[encoded data removed]",
      "text/plain": [
       "<Figure size 2000x800 with 2 Axes>"
      ]
     },
     "metadata": {},
     "output_type": "display_data"
    }
   ],
   "source": [
    "import seaborn as sns\n",
    "import matplotlib.pyplot as plt\n",
    "\n",
    "# Assume 'score_matrix_df' is your loaded (183, 22) DataFrame\n",
    "score_matrix_df = pd.read_csv(\"../data/scenario_probs.csv\")\n",
    "\n",
    "# Combine the two dataframes\n",
    "combined_df = pd.concat([thetas_df, score_matrix_df], axis=1)\n",
    "\n",
    "# Calculate and isolate the validity matrix\n",
    "validity_matrix = combined_df.corr().loc[thetas_df.columns, score_matrix_df.columns]\n",
    "\n",
    "# Plot the heatmap\n",
    "plt.figure(figsize=(20, 8))\n",
    "sns.heatmap(validity_matrix, annot=True, cmap='coolwarm', fmt='.2f', vmin=-1, vmax=1)\n",
    "plt.savefig(\"../result/external_validity_heatmap.png\")\n",
    "plt.show()"
   ]
  }
 ],
 "metadata": {
  "kernelspec": {
   "display_name": "reeval",
   "language": "python",
   "name": "python3"
  },
  "language_info": {
   "codemirror_mode": {
    "name": "ipython",
    "version": 3
   },
   "file_extension": ".py",
   "mimetype": "text/x-python",
   "name": "python",
   "nbconvert_exporter": "python",
   "pygments_lexer": "ipython3",
   "version": "3.10.18"
  }
 },
 "nbformat": 4,
 "nbformat_minor": 5
}
